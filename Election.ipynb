{
 "cells": [
  {
   "cell_type": "code",
   "execution_count": null,
   "metadata": {},
   "outputs": [],
   "source": [
    "# Dependencies and Setup\n",
    "import pandas as pd\n",
    "from sqlalchemy import create_engine\n",
    "import numpy as np\n",
    "from config import (user, password, host, port, database)\n",
    "\n",
    "# File to Load (Remember to Change These)\n",
    "election_data = \"data/countypres_2000-2016.csv\"\n",
    "\n",
    "# Read Purchasing File and store into Pandas data frame\n",
    "election_data_df = pd.read_csv(election_data, low_memory=False)\n",
    "election_data_df.head()"
   ]
  },
  {
   "cell_type": "code",
   "execution_count": null,
   "metadata": {},
   "outputs": [],
   "source": [
    "# Rename Column Headers & Clean up \n",
    "new_election_data_df = election_data_df.rename(columns={\"year\":\"year\",\n",
    "                                                           \"state\": \"state\" ,\n",
    "                                                            \"state_po\": \"state_po\",\n",
    "                                                            \"county\":\"county\",\n",
    "                                                            \"FIPS\": \"fips\",\n",
    "                                                            \"office\": \"office\",\n",
    "                                                            \"candidate\": \"candidate\",\n",
    "                                                            \"party\": \"party\",\n",
    "                                                            \"candidatevotes\": \"candidate_votes\",\n",
    "                                                            \"totalvotes\": \"total_votes_county\",\n",
    "                                                            \"version\": \"version\"})\n",
    "\n",
    "new_election_data_df.head()"
   ]
  },
  {
   "cell_type": "code",
   "execution_count": null,
   "metadata": {},
   "outputs": [],
   "source": [
    "new_election_data_df[\"party\"].fillna(\"other\", inplace = True)\n",
    "new_election_data_df[\"candidate_votes\"].fillna(\"0\", inplace = True)\n",
    "new_election_data_df[\"state_po\"].fillna(\"unknown\", inplace = True)\n",
    "new_election_data_df[\"fips\"].fillna(\"0\", inplace = True)\n",
    "new_election_data_df.head()"
   ]
  },
  {
   "cell_type": "code",
   "execution_count": null,
   "metadata": {},
   "outputs": [],
   "source": [
    "# election_cols = [\"Year\", \"State\", \"State_Abbr\", \"County\",\"Office\",\"Candidate\",\"Party\",\"Candidate Votes\",\"Total Votes\" ]\n",
    "# final_election_data_df = new_election_data_df[election_cols].copy()\n",
    "# final_election_data_df.head()"
   ]
  },
  {
   "cell_type": "markdown",
   "metadata": {},
   "source": [
    "# LOAD"
   ]
  },
  {
   "cell_type": "markdown",
   "metadata": {},
   "source": [
    "### Steps\n",
    "- Create database connection\n",
    "- Load DataFrames into database\n",
    "- Create Database Connection"
   ]
  },
  {
   "cell_type": "markdown",
   "metadata": {},
   "source": [
    "### Create Database Connection"
   ]
  },
  {
   "cell_type": "code",
   "execution_count": null,
   "metadata": {},
   "outputs": [],
   "source": [
    "engine = create_engine(f'postgresql://{user}:{password}@{host}:{port}/{database}')\n",
    "conn = engine.connect()"
   ]
  },
  {
   "cell_type": "code",
   "execution_count": null,
   "metadata": {},
   "outputs": [],
   "source": [
    "engine.table_names()"
   ]
  },
  {
   "cell_type": "code",
   "execution_count": null,
   "metadata": {},
   "outputs": [],
   "source": [
    "new_election_data_df.to_sql(name='election_data', con = engine, if_exists='append', index=True)"
   ]
  },
  {
   "cell_type": "code",
   "execution_count": null,
   "metadata": {},
   "outputs": [],
   "source": []
  }
 ],
 "metadata": {
  "kernelspec": {
   "display_name": "Python 3",
   "language": "python",
   "name": "python3"
  },
  "language_info": {
   "codemirror_mode": {
    "name": "ipython",
    "version": 3
   },
   "file_extension": ".py",
   "mimetype": "text/x-python",
   "name": "python",
   "nbconvert_exporter": "python",
   "pygments_lexer": "ipython3",
   "version": "3.6.10"
  }
 },
 "nbformat": 4,
 "nbformat_minor": 4
}
