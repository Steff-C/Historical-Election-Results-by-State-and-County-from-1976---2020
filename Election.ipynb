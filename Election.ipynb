{
 "cells": [
  {
   "cell_type": "code",
   "execution_count": null,
   "metadata": {},
   "outputs": [],
   "source": [
    "# Dependencies and Setup\n",
    "import pandas as pd\n",
    "from sqlalchemy import create_engine\n",
    "import numpy as np\n",
    "from config import (user, password, host, port, database)\n",
    "\n",
    "# File to Load (Remember to Change These)\n",
    "election_data = \"data/countypres_2000-2016.csv\"\n",
    "\n",
    "# Read Purchasing File and store into Pandas data frame\n",
    "election_data_df = pd.read_csv(election_data, low_memory=False)\n",
    "election_data_df.head()"
   ]
  },
  {
   "cell_type": "code",
   "execution_count": null,
   "metadata": {},
   "outputs": [],
   "source": [
    "# Rename Column Headers & Clean up \n",
    "election_data_df = election_data_df.rename(columns={\"year\":\"Year\",\n",
    "                                                           \"state\": \"State\" ,\n",
    "                                                            \"state_po\": \"State_Abbr\",\n",
    "                                                            \"county\":\"County\",\n",
    "                                                            \"FIPS\": \"FIPS\",\n",
    "                                                            \"office\": \"Office\",\n",
    "                                                            \"candidate\": \"Candidate\",\n",
    "                                                            \"party\": \"Party\",\n",
    "                                                            \"candidatevotes\": \"Candidate_Votes\",\n",
    "                                                            \"totalvotes\": \"Total_Votes_byCounty\",\n",
    "                                                            \"version\": \"Version\"})\n",
    "\n",
    "\n",
    "election_data_df.head()"
   ]
  },
  {
   "cell_type": "code",
   "execution_count": null,
   "metadata": {},
   "outputs": [],
   "source": [
    "election_data_df = election_data_df.drop(columns=[\"Version\"])\n",
    "election_data_df.head()"
   ]
  },
  {
   "cell_type": "code",
   "execution_count": null,
   "metadata": {},
   "outputs": [],
   "source": [
    "election_data_df[\"Party\"].fillna(\"Other\", inplace = True)\n",
    "election_data_df[\"Candidate_Votes\"].fillna(\"0\", inplace = True)\n",
    "election_data_df[\"State_Abbr\"].fillna(\"unknown\", inplace = True)\n",
    "election_data_df[\"FIPS\"].fillna(\"0\", inplace = True)\n",
    "election_data_df.head()"
   ]
  },
  {
   "cell_type": "code",
   "execution_count": null,
   "metadata": {},
   "outputs": [],
   "source": [
    "# File to Load (Remember to Change These)\n",
    "state_election_data = \"data/1976-2020-president.csv\"\n",
    "\n",
    "# Read Purchasing File and store into Pandas data frame\n",
    "state_election_data_df = pd.read_csv(state_election_data, low_memory=False)\n",
    "state_election_data_df.head()"
   ]
  },
  {
   "cell_type": "code",
   "execution_count": null,
   "metadata": {},
   "outputs": [],
   "source": [
    "state_election_data_df = state_election_data_df.drop(columns=[\"state_fips\",\"state_cen\",\"state_ic\", \"writein\", \"party_detailed\", \"version\", \"notes\"])\n",
    "state_election_data_df.head()"
   ]
  },
  {
   "cell_type": "code",
   "execution_count": null,
   "metadata": {},
   "outputs": [],
   "source": [
    "# Rename Column Headers & Clean up \n",
    "state_election_data_df = state_election_data_df.rename(columns={\"year\":\"Year\",\n",
    "                                                           \"state\": \"State\" ,\n",
    "                                                            \"state_po\": \"State_Abbr\",\n",
    "                                                            \"office\":\"Office\",\n",
    "                                                            \"candidate\": \"Candidate\",\n",
    "                                                            \"candidatevotes\": \"Candidate_Votes\",\n",
    "                                                            \"totalvotes\": \"Total_Votes_by_State\",\n",
    "                                                            \"party_simplified\": \"Party\"})\n",
    "\n",
    "\n",
    "state_election_data_df[\"Candidate\"].fillna(\"Other\", inplace = True)\n",
    "state_election_data_df.head()"
   ]
  },
  {
   "cell_type": "code",
   "execution_count": null,
   "metadata": {},
   "outputs": [],
   "source": [
    "state_election_data_df.groupby(['Year', 'State', 'Party']).sum()"
   ]
  },
  {
   "cell_type": "markdown",
   "metadata": {},
   "source": [
    "# LOAD"
   ]
  },
  {
   "cell_type": "markdown",
   "metadata": {},
   "source": [
    "### Steps\n",
    "- Create database connection\n",
    "- Load DataFrames into database\n",
    "- Create Database Connection"
   ]
  },
  {
   "cell_type": "markdown",
   "metadata": {},
   "source": [
    "### Create Database Connection"
   ]
  },
  {
   "cell_type": "code",
   "execution_count": null,
   "metadata": {},
   "outputs": [],
   "source": [
    "engine = create_engine(f'postgresql://{user}:{password}@{host}:{port}/{database}')\n",
    "conn = engine.connect()"
   ]
  },
  {
   "cell_type": "code",
   "execution_count": null,
   "metadata": {},
   "outputs": [],
   "source": [
    "engine.table_names()"
   ]
  },
  {
   "cell_type": "code",
   "execution_count": null,
   "metadata": {},
   "outputs": [],
   "source": [
    "election_data_df.to_sql(name='election_data', con = engine, if_exists='append', index=True)"
   ]
  },
  {
   "cell_type": "code",
   "execution_count": null,
   "metadata": {},
   "outputs": [],
   "source": [
    "state_election_data_df.to_sql(name='state_election_data', con = engine, if_exists='append', index=True)"
   ]
  },
  {
   "cell_type": "code",
   "execution_count": null,
   "metadata": {},
   "outputs": [],
   "source": []
  }
 ],
 "metadata": {
  "kernelspec": {
   "display_name": "Python 3",
   "language": "python",
   "name": "python3"
  },
  "language_info": {
   "codemirror_mode": {
    "name": "ipython",
    "version": 3
   },
   "file_extension": ".py",
   "mimetype": "text/x-python",
   "name": "python",
   "nbconvert_exporter": "python",
   "pygments_lexer": "ipython3",
   "version": "3.6.10"
  }
 },
 "nbformat": 4,
 "nbformat_minor": 4
}
